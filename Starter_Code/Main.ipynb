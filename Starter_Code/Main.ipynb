{
 "cells": [
  {
   "cell_type": "code",
   "execution_count": null,
   "metadata": {},
   "outputs": [],
   "source": [
    "# Import libraries.\n",
    "import numpy as np\n",
    "import pandas as pd\n",
    "from pathlib import Path\n",
    "import seaborn as sns\n",
    "%matplotlib inline"
   ]
  },
  {
   "cell_type": "markdown",
   "metadata": {},
   "source": [
    "<h1>Prepare the Data</h1>"
   ]
  },
  {
   "cell_type": "code",
   "execution_count": null,
   "metadata": {},
   "outputs": [],
   "source": [
    "# Set file paths.\n",
    "aapl_historical_data = Path(\"./Resources/aapl_historical.csv\")\n",
    "algo_returns_data = Path(\"./Resources/algo_returns.csv\")\n",
    "cost_historical_data = Path(\"./Resources/cost_historical.csv\")\n",
    "goog_historical_data = Path(\"./Resources/goog_historical.csv\")\n",
    "whale_returns_data = Path(\"./Resources/whale_returns.csv\")\n",
    "sp500_history_data = Path(\"./Resources/sp500_history.csv\")\n",
    "\n",
    "# Read CSVs into dataframe and set `date` column to datetimeindex.\n",
    "aapl_historical_df = pd.read_csv(aapl_historical_data, index_col=\"Trade DATE\", infer_datetime_format=True, parse_dates=True)\n",
    "algo_returns_df = pd.read_csv(algo_returns_data, index_col=\"Date\", infer_datetime_format=True, parse_dates=True)\n",
    "cost_historical_df = pd.read_csv(cost_historical_data, index_col=\"Trade DATE\", infer_datetime_format=True, parse_dates=True)\n",
    "goog_historical_df = pd.read_csv(goog_historical_data, index_col=\"Trade DATE\", infer_datetime_format=True, parse_dates=True)\n",
    "whale_returns_df = pd.read_csv(whale_returns_data, index_col=\"Date\", infer_datetime_format=True, parse_dates=True)\n",
    "sp500_history_df = pd.read_csv(sp500_history_data, index_col=\"Date\", infer_datetime_format=True, parse_dates=True)"
   ]
  },
  {
   "cell_type": "code",
   "execution_count": null,
   "metadata": {},
   "outputs": [],
   "source": [
    "#Detect and remove null values.\n",
    "aapl_historical_df = aapl_historical_df.dropna(axis = 1, how = 'all')\n",
    "algo_returns_df = algo_returns_df.dropna(axis = 1,how = 'all')\n",
    "cost_historical_df = cost_historical_df.dropna(axis = 1, how = 'all')\n",
    "goog_historical_df = goog_historical_df.dropna(axis = 1, how = 'all')\n",
    "whale_returns_df = whale_returns_df.dropna(axis = 1, how = 'all')\n",
    "sp500_history_df = sp500_history_df.dropna(axis = 1, how = 'all')"
   ]
  },
  {
   "cell_type": "code",
   "execution_count": null,
   "metadata": {},
   "outputs": [],
   "source": [
    "#Remove $ signs from numeric values and convert to float.\n",
    "sp500_history_df = sp500_history_df['Close'].str.replace('$','').astype('float64')"
   ]
  },
  {
   "cell_type": "code",
   "execution_count": null,
   "metadata": {},
   "outputs": [],
   "source": [
    "#Convert SP500 closing prices to daily returns.\n",
    "sp500_returns_df = sp500_history_df.pct_change()"
   ]
  },
  {
   "cell_type": "code",
   "execution_count": null,
   "metadata": {},
   "outputs": [],
   "source": [
    "#Join Whale Returns, Algo Returns, SP500 Returns into dataframe; rename 'Close' column to 'S&P 500'.\n",
    "all_returns = pd.concat([whale_returns_df,algo_returns_df,sp500_returns_df], axis = 'columns', join = 'inner').rename({'Close': 'S&P 500'}, axis = 1)\n",
    "all_returns.head()"
   ]
  },
  {
   "cell_type": "markdown",
   "metadata": {},
   "source": [
    "<h1>Conduct Quantitative Analysis</h1>"
   ]
  },
  {
   "cell_type": "markdown",
   "metadata": {},
   "source": [
    "<h3>Performance Analysis</h3>"
   ]
  },
  {
   "cell_type": "code",
   "execution_count": null,
   "metadata": {},
   "outputs": [],
   "source": [
    "#Calculate and plot daily returns of all portfolios\n",
    "all_daily_returns = all_returns.dropna()\n",
    "all_daily_returns.plot(figsize=(20,10))"
   ]
  },
  {
   "cell_type": "code",
   "execution_count": null,
   "metadata": {},
   "outputs": [],
   "source": [
    "#Calculate and plot cumulative returns for all portfolios. Does any portfolio outperform the S&P 500?\n",
    "all_cumulative_returns = (1 + all_daily_returns).cumprod()\n",
    "all_cumulative_returns.plot(figsize = (20, 10))"
   ]
  },
  {
   "cell_type": "markdown",
   "metadata": {},
   "source": [
    "<h3>Risk Analysis</h3>"
   ]
  },
  {
   "cell_type": "code",
   "execution_count": null,
   "metadata": {},
   "outputs": [],
   "source": [
    "#Create a box plot for each of the returns.\n",
    "all_cumulative_returns.boxplot(column = ['SOROS FUND MANAGEMENT LLC',\"PAULSON & CO.INC. \",'TIGER GLOBAL MANAGEMENT LLC','BERKSHIRE HATHAWAY INC','Algo 1','Algo 2','S&P 500'])"
   ]
  },
  {
   "cell_type": "code",
   "execution_count": null,
   "metadata": {},
   "outputs": [],
   "source": [
    "#Calculate the standard deviation for each portfolio.\n",
    "all_returns_std = all_returns.std(axis = 0, skipna = True) \n",
    "all_returns_std"
   ]
  },
  {
   "cell_type": "code",
   "execution_count": null,
   "metadata": {},
   "outputs": [],
   "source": [
    "#Determine which portfolios are riskier than the S&P 500.\n",
    "sp500_std_value = all_returns_std['S&P 500'].min().round(decimals=6)\n",
    "risky_portfolios = print(all_returns_std > sp500_std_value)\n",
    "risky_portfolios"
   ]
  },
  {
   "cell_type": "code",
   "execution_count": null,
   "metadata": {},
   "outputs": [],
   "source": [
    "#Calculate the Annualized Standard Deviation.\n"
   ]
  },
  {
   "cell_type": "markdown",
   "metadata": {},
   "source": [
    "<h3>Rolling Statistics</h3>"
   ]
  },
  {
   "cell_type": "code",
   "execution_count": null,
   "metadata": {},
   "outputs": [],
   "source": [
    "#Calculate and plot rolling std dev for all portfolios using a 21-day window.\n",
    "all_returns.rolling(window = 21).std().plot()"
   ]
  },
  {
   "cell_type": "code",
   "execution_count": null,
   "metadata": {},
   "outputs": [],
   "source": [
    "#Calculate, plot correlation b/w each stock. Determine which portfolios mimick the SP500.\n",
    "correlation = all_returns.corr()\n",
    "sns.heatmap(correlation, vmin=-1, vmax=1)"
   ]
  },
  {
   "cell_type": "code",
   "execution_count": null,
   "metadata": {},
   "outputs": [],
   "source": [
    "#Choose one portfolio; calculate and plot the 60-day rolling beta b/w it and SP500.\n",
    "berk_sp_roll_cov = all_returns['BERKSHIRE HATHAWAY INC'].rolling(window = 60).cov(all_returns['S&P 500'])\n",
    "berk_sp_roll_var = all_returns['S&P 500'].var()\n",
    "berk_sp_roll_beta = berk_sp_roll_cov / berk_sp_roll_var\n",
    "berk_sp_roll_beta.plot(figsize=(20, 10), title = 'Rolling 60-Day Beta of BERKSHIRE HATHAWAY INC and the S&P 500' )"
   ]
  },
  {
   "cell_type": "markdown",
   "metadata": {},
   "source": [
    "<h3>Rolling Statistics Challenge: Exponentially Weighted Average</h3>"
   ]
  },
  {
   "cell_type": "code",
   "execution_count": null,
   "metadata": {},
   "outputs": [],
   "source": [
    "#Now try calculating the ewm with a 21-day half-life.\n",
    "all_returns.ewm(halflife='21 days', all_returns_std=pd.DatetimeIndex(all_returns_std)).mean()"
   ]
  },
  {
   "cell_type": "markdown",
   "metadata": {},
   "source": [
    "<h3>Sharpe Ratios</h3>"
   ]
  },
  {
   "cell_type": "code",
   "execution_count": null,
   "metadata": {},
   "outputs": [],
   "source": [
    "#Using the daily returns, calculate and visualize the Sharpe ratios using a bar plot.\n",
    "sharpe_ratios = ((all_returns.mean()) * 252) / (all_returns_std * np.sqrt(252))\n",
    "sharpe_ratios"
   ]
  },
  {
   "cell_type": "code",
   "execution_count": null,
   "metadata": {},
   "outputs": [],
   "source": [
    "#Determine whether algo outperformed both the SP500 and whale portfolios.\n"
   ]
  },
  {
   "cell_type": "markdown",
   "metadata": {},
   "source": [
    "<h3>Create a Custom Portfolio</h3>"
   ]
  },
  {
   "cell_type": "code",
   "execution_count": null,
   "metadata": {},
   "outputs": [],
   "source": [
    "#Visit Google Sheets and use the built-in Google Finance function to choose 3-5 stocks for your portfolio.\n",
    "#Download the data as CSV files and calculate the portfolio returns.\n"
   ]
  },
  {
   "cell_type": "code",
   "execution_count": null,
   "metadata": {},
   "outputs": [],
   "source": [
    "#Calculate weighted returns for your portfolio, assuming equal number of shares per stock.\n"
   ]
  },
  {
   "cell_type": "code",
   "execution_count": null,
   "metadata": {},
   "outputs": [],
   "source": [
    "#Add your portfolio returns to the datafram with the other portfolios.\n"
   ]
  },
  {
   "cell_type": "code",
   "execution_count": null,
   "metadata": {},
   "outputs": [],
   "source": [
    "#Run the following analyses:\n",
    "#Calculate the Annualized Standard Deviation.\n",
    "\n",
    "#Calculate and plot rolling std with a 21-day window.\n",
    "\n",
    "#Calculate and plot the correlation.\n",
    "\n",
    "#Calculate and plot beta for your portfolio compared to the S&P 60 TSX.\n",
    "\n",
    "#Calculate the Sharpe ratios and generate a bar plot.\n"
   ]
  },
  {
   "cell_type": "code",
   "execution_count": null,
   "metadata": {},
   "outputs": [],
   "source": [
    "#How does your portfolio do?\n",
    "\n",
    "\n"
   ]
  }
 ],
 "metadata": {
  "kernelspec": {
   "display_name": "Python 3",
   "language": "python",
   "name": "python3"
  },
  "language_info": {
   "codemirror_mode": {
    "name": "ipython",
    "version": 3
   },
   "file_extension": ".py",
   "mimetype": "text/x-python",
   "name": "python",
   "nbconvert_exporter": "python",
   "pygments_lexer": "ipython3",
   "version": "3.8.5"
  }
 },
 "nbformat": 4,
 "nbformat_minor": 4
}
